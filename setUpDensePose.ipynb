{
  "nbformat": 4,
  "nbformat_minor": 0,
  "metadata": {
    "colab": {
      "name": "setUpDensePose.ipynb",
      "version": "0.3.2",
      "provenance": [],
      "collapsed_sections": []
    },
    "kernelspec": {
      "name": "python2",
      "display_name": "Python 2"
    },
    "accelerator": "GPU"
  },
  "cells": [
    {
      "metadata": {
        "id": "pj84JyBO25_m",
        "colab_type": "code",
        "colab": {}
      },
      "cell_type": "code",
      "source": [
        "from google.colab import drive\n",
        "drive.mount('/content/gdrive')"
      ],
      "execution_count": 0,
      "outputs": []
    },
    {
      "metadata": {
        "id": "eZc-PBir22UG",
        "colab_type": "text"
      },
      "cell_type": "markdown",
      "source": [
        "In this notebook, I am collecting everything one needs to run densepose within the google colab environment.\n",
        "\n",
        "First, we'll mount our google drive"
      ]
    },
    {
      "metadata": {
        "id": "_hLhG6C_3Koc",
        "colab_type": "text"
      },
      "cell_type": "markdown",
      "source": [
        "Next, we'll install a 2018 Anaconda2 to then use it to install an old pytorch 1.0.1 -- not the nightly build -- including caffe2, install the COCO API and finally densepose. For the latter, we have to make sure we are using the correct & latest \"env.py\" from the detectron utils. Finally, we'll fetch the densepose data."
      ]
    },
    {
      "metadata": {
        "id": "BCwD_Cr4hzq0",
        "colab_type": "code",
        "colab": {}
      },
      "cell_type": "code",
      "source": [
        "import os\n",
        "from google.colab import files\n",
        "\n",
        "!wget -c https://repo.continuum.io/archive/Anaconda2-5.3.0-Linux-x86_64.sh\n",
        "!chmod +x Anaconda2-5.3.0-Linux-x86_64.sh\n",
        "!bash ./Anaconda2-5.3.0-Linux-x86_64.sh -b -f -p /usr/local\n",
        "#!wget -c https://repo.continuum.io/archive/Anaconda2-2019.03-Linux-x86_64.sh\n",
        "#!chmod +x Anaconda2-2019.03-Linux-x86_64.sh\n",
        "#!bash ./Anaconda2-2019.03-Linux-x86_64.sh -b -f -p /usr/local\n",
        "\n",
        "import sys\n",
        "sys.path.append('/usr/local/lib/python2.7/site-packages/')\n",
        "\n",
        "#!conda install -y pytorch-nightly -c pytorch\n",
        "!conda install -y pytorch\n",
        "!pip install argparse\n",
        "!pip install pyhamcrest\n",
        "!pip install protobuf\n",
        "!pip install future\n",
        "!pip install pydot\n",
        "!pip install cython scikit-image easydict\n",
        "\n",
        "!python2 -c 'from caffe2.python import workspace; print(workspace.NumCudaDevices())'\n",
        "!python2 -c 'from caffe2.python import core' 2>/dev/null && echo \"Success\" || echo \"Failure\"\n",
        "\n",
        "COCOAPI='/usr/local/cocoapi/'\n",
        "!git clone https://github.com/cocodataset/cocoapi.git $COCOAPI\n",
        "  \n",
        "os.chdir('/usr/local/cocoapi/PythonAPI/')\n",
        "!python2 setup.py install --user\n",
        "\n",
        "DENSEPOSE='/usr/local/densepose/'\n",
        "!git clone https://github.com/facebookresearch/densepose $DENSEPOSE\n",
        "os.chdir('/usr/local/densepose/detectron/utils/')\n",
        "!rm env.py\n",
        "!wget https://raw.githubusercontent.com/facebookresearch/Detectron/master/detectron/utils/env.py\n",
        "!pip install -r $DENSEPOSE/requirements.txt\n",
        "os.chdir('/usr/local/densepose/')\n",
        "!make\n",
        "!python $DENSEPOSE/detectron/tests/test_spatial_narrow_as_op.py\n",
        "\n",
        "os.chdir('/usr/local/densepose/DensePoseData/')\n",
        "!bash get_densepose_uv.sh\n",
        "!bash get_eval_data.sh"
      ],
      "execution_count": 0,
      "outputs": []
    },
    {
      "metadata": {
        "id": "8Tja1H-v3m0q",
        "colab_type": "text"
      },
      "cell_type": "markdown",
      "source": [
        "Now we're ready to infer the positions of bodies in images, copy the results into our gdrive and zip them and clear the densepose output directory (so we could run the next batch straight away):"
      ]
    },
    {
      "metadata": {
        "id": "bdb2n1tfyel5",
        "colab_type": "code",
        "colab": {}
      },
      "cell_type": "code",
      "source": [
        "os.chdir('/usr/local/densepose/')\n",
        "!python2 tools/infer_simple.py \\\n",
        "    --cfg configs/DensePose_ResNet101_FPN_s1x-e2e.yaml \\\n",
        "    --output-dir DensePoseData/infer_out/ \\\n",
        "    --image-ext jpg \\\n",
        "    --wts https://dl.fbaipublicfiles.com/densepose/DensePose_ResNet101_FPN_s1x-e2e.pkl \\\n",
        "    /content/gdrive/My\\ Drive/skopdaube/batch5/\n",
        "  \n",
        "!cp /usr/local/densepose/DensePoseData/infer_out/*IUV.png /content/gdrive/My\\ Drive/skopdaube/batch5Out/\n",
        "!cp /usr/local/densepose/DensePoseData/infer_out/*INDS.png /content/gdrive/My\\ Drive/skopdaube/batch5Out/\n",
        "!zip -r /content/gdrive/My\\ Drive/skopdaube/batch5Out.zip /content/gdrive/My\\ Drive/skopdaube/batch5Out/\n",
        "\n",
        "!rm -r /usr/local/densepose/DensePoseData/infer_out/*"
      ],
      "execution_count": 0,
      "outputs": []
    },
    {
      "metadata": {
        "id": "fJOkAl76wavU",
        "colab_type": "code",
        "colab": {}
      },
      "cell_type": "code",
      "source": [
        "os.chdir('/usr/local/densepose/')\n",
        "!python2 tools/infer_simple.py \\\n",
        "    --cfg configs/DensePoseKeyPointsMask_ResNet50_FPN_s1x-e2e.yaml \\\n",
        "    --output-dir /content/gdrive/My\\ Drive/DensePose/skopdaube/test/ \\\n",
        "    --image-ext jpg \\\n",
        "    --wts https://dl.fbaipublicfiles.com/detectron/ImageNetPretrained/MSRA/R-50.pkl \\\n",
        "    /content/gdrive/My\\ Drive/skopdaube/test/"
      ],
      "execution_count": 0,
      "outputs": []
    }
  ]
}